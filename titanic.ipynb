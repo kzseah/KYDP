{
  "cells": [
    {
      "cell_type": "code",
      "execution_count": 1,
      "metadata": {
        "id": "EtdK0IpPfpT6"
      },
      "outputs": [],
      "source": [
        "# import pandas & sqlite3\n",
        "import pandas as pd\n",
        "import sqlite3"
      ]
    },
    {
      "cell_type": "code",
      "execution_count": 2,
      "metadata": {
        "colab": {
          "base_uri": "https://localhost:8080/"
        },
        "id": "U4upka_Tbo-G",
        "outputId": "bdccafe7-f2ff-4557-e6da-d747e1b87259"
      },
      "outputs": [
        {
          "data": {
            "text/html": [
              "<div>\n",
              "<style scoped>\n",
              "    .dataframe tbody tr th:only-of-type {\n",
              "        vertical-align: middle;\n",
              "    }\n",
              "\n",
              "    .dataframe tbody tr th {\n",
              "        vertical-align: top;\n",
              "    }\n",
              "\n",
              "    .dataframe thead th {\n",
              "        text-align: right;\n",
              "    }\n",
              "</style>\n",
              "<table border=\"1\" class=\"dataframe\">\n",
              "  <thead>\n",
              "    <tr style=\"text-align: right;\">\n",
              "      <th></th>\n",
              "      <th>PassengerId</th>\n",
              "      <th>Survived</th>\n",
              "      <th>Pclass</th>\n",
              "      <th>Name</th>\n",
              "      <th>Sex</th>\n",
              "      <th>Age</th>\n",
              "      <th>SibSp</th>\n",
              "      <th>Parch</th>\n",
              "      <th>Ticket</th>\n",
              "      <th>Fare</th>\n",
              "      <th>Cabin</th>\n",
              "      <th>Embarked</th>\n",
              "    </tr>\n",
              "  </thead>\n",
              "  <tbody>\n",
              "    <tr>\n",
              "      <th>0</th>\n",
              "      <td>1</td>\n",
              "      <td>0</td>\n",
              "      <td>3</td>\n",
              "      <td>Braund, Mr. Owen Harris</td>\n",
              "      <td>male</td>\n",
              "      <td>22</td>\n",
              "      <td>1</td>\n",
              "      <td>0</td>\n",
              "      <td>A/5 21171</td>\n",
              "      <td>7.2500</td>\n",
              "      <td>None</td>\n",
              "      <td>S</td>\n",
              "    </tr>\n",
              "    <tr>\n",
              "      <th>1</th>\n",
              "      <td>2</td>\n",
              "      <td>1</td>\n",
              "      <td>1</td>\n",
              "      <td>Cumings, Mrs. John Bradley (Florence Briggs Th...</td>\n",
              "      <td>female</td>\n",
              "      <td>38</td>\n",
              "      <td>1</td>\n",
              "      <td>0</td>\n",
              "      <td>PC 17599</td>\n",
              "      <td>71.2833</td>\n",
              "      <td>C85</td>\n",
              "      <td>C</td>\n",
              "    </tr>\n",
              "    <tr>\n",
              "      <th>2</th>\n",
              "      <td>3</td>\n",
              "      <td>1</td>\n",
              "      <td>3</td>\n",
              "      <td>Heikkinen, Miss. Laina</td>\n",
              "      <td>female</td>\n",
              "      <td>26</td>\n",
              "      <td>0</td>\n",
              "      <td>0</td>\n",
              "      <td>STON/O2. 3101282</td>\n",
              "      <td>7.9250</td>\n",
              "      <td>None</td>\n",
              "      <td>S</td>\n",
              "    </tr>\n",
              "    <tr>\n",
              "      <th>3</th>\n",
              "      <td>4</td>\n",
              "      <td>1</td>\n",
              "      <td>1</td>\n",
              "      <td>Futrelle, Mrs. Jacques Heath (Lily May Peel)</td>\n",
              "      <td>female</td>\n",
              "      <td>35</td>\n",
              "      <td>1</td>\n",
              "      <td>0</td>\n",
              "      <td>113803</td>\n",
              "      <td>53.1000</td>\n",
              "      <td>C123</td>\n",
              "      <td>S</td>\n",
              "    </tr>\n",
              "    <tr>\n",
              "      <th>4</th>\n",
              "      <td>5</td>\n",
              "      <td>0</td>\n",
              "      <td>3</td>\n",
              "      <td>Allen, Mr. William Henry</td>\n",
              "      <td>male</td>\n",
              "      <td>35</td>\n",
              "      <td>0</td>\n",
              "      <td>0</td>\n",
              "      <td>373450</td>\n",
              "      <td>8.0500</td>\n",
              "      <td>None</td>\n",
              "      <td>S</td>\n",
              "    </tr>\n",
              "  </tbody>\n",
              "</table>\n",
              "</div>"
            ],
            "text/plain": [
              "   PassengerId  Survived  Pclass  \\\n",
              "0            1         0       3   \n",
              "1            2         1       1   \n",
              "2            3         1       3   \n",
              "3            4         1       1   \n",
              "4            5         0       3   \n",
              "\n",
              "                                                Name     Sex Age  SibSp  \\\n",
              "0                            Braund, Mr. Owen Harris    male  22      1   \n",
              "1  Cumings, Mrs. John Bradley (Florence Briggs Th...  female  38      1   \n",
              "2                             Heikkinen, Miss. Laina  female  26      0   \n",
              "3       Futrelle, Mrs. Jacques Heath (Lily May Peel)  female  35      1   \n",
              "4                           Allen, Mr. William Henry    male  35      0   \n",
              "\n",
              "   Parch            Ticket     Fare Cabin Embarked  \n",
              "0      0         A/5 21171   7.2500  None        S  \n",
              "1      0          PC 17599  71.2833   C85        C  \n",
              "2      0  STON/O2. 3101282   7.9250  None        S  \n",
              "3      0            113803  53.1000  C123        S  \n",
              "4      0            373450   8.0500  None        S  "
            ]
          },
          "execution_count": 2,
          "metadata": {},
          "output_type": "execute_result"
        }
      ],
      "source": [
        "# read sql using pandas\n",
        "conn = sqlite3.connect('titanic.db')\n",
        "c = conn.cursor()\n",
        "passengers = pd.read_sql('SELECT * FROM passengers',conn)\n",
        "passengers.head()"
      ]
    },
    {
      "cell_type": "code",
      "execution_count": 3,
      "metadata": {
        "colab": {
          "base_uri": "https://localhost:8080/",
          "height": 289
        },
        "id": "nJbTue2xbeRh",
        "outputId": "00746985-1d1e-43b9-a7fa-c6dfb0d24bbd"
      },
      "outputs": [
        {
          "name": "stdout",
          "output_type": "stream",
          "text": [
            "(1, 0, 3, 'Braund, Mr. Owen Harris', 'male', '22', 1, 0, 'A/5 21171', 7.25, None, 'S')\n",
            "(2, 1, 1, 'Cumings, Mrs. John Bradley (Florence Briggs Thayer)', 'female', '38', 1, 0, 'PC 17599', 71.2833, 'C85', 'C')\n",
            "(3, 1, 3, 'Heikkinen, Miss. Laina', 'female', '26', 0, 0, 'STON/O2. 3101282', 7.925, None, 'S')\n",
            "(4, 1, 1, 'Futrelle, Mrs. Jacques Heath (Lily May Peel)', 'female', '35', 1, 0, '113803', 53.1, 'C123', 'S')\n",
            "(5, 0, 3, 'Allen, Mr. William Henry', 'male', '35', 0, 0, '373450', 8.05, None, 'S')\n",
            "(6, 0, 3, 'Moran, Mr. James', 'male', None, 0, 0, '330877', 8.4583, None, 'Q')\n",
            "(7, 0, 1, 'McCarthy, Mr. Timothy J', 'male', '54', 0, 0, '17463', 51.8625, 'E46', 'S')\n",
            "(8, 0, 3, 'Palsson, Master. Gosta Leonard', 'male', '2', 3, 1, '349909', 21.075, None, 'S')\n",
            "(9, 1, 3, 'Johnson, Mrs. Oscar W (Elisabeth Vilhelmina Berg)', 'female', '27', 0, 2, '347742', 11.1333, None, 'S')\n",
            "(10, 1, 2, 'Nasser, Mrs. Nicholas (Adele Achem)', 'female', '14', 1, 0, '237736', 30.0708, None, 'C')\n"
          ]
        }
      ],
      "source": [
        "# print first 10 rows\n",
        "data = c.execute('SELECT * FROM passengers LIMIT 10')\n",
        "\n",
        "print(*data.fetchall(),sep=\"\\n\")\n",
        "# OR\n",
        "# for row in c:\n",
        "#     print(row)\n",
        "\n",
        "c.close()"
      ]
    },
    {
      "cell_type": "code",
      "execution_count": 4,
      "metadata": {},
      "outputs": [],
      "source": [
        "# pip install ipython-sql\n",
        "# pip install --upgrade ipython\n",
        "\n",
        "# Loading External SQL Module\n",
        "%load_ext sql\n",
        "\n",
        "# Connecting to Database\n",
        "%sql sqlite:///titanic.db"
      ]
    },
    {
      "cell_type": "code",
      "execution_count": 5,
      "metadata": {
        "colab": {
          "base_uri": "https://localhost:8080/",
          "height": 96
        },
        "id": "AZZsJqu1gf_G",
        "outputId": "2575497d-28bb-43e2-fe1e-4b11bfd7600c"
      },
      "outputs": [
        {
          "name": "stdout",
          "output_type": "stream",
          "text": [
            " * sqlite:///titanic.db\n",
            "Done.\n"
          ]
        },
        {
          "data": {
            "text/html": [
              "<table>\n",
              "    <thead>\n",
              "        <tr>\n",
              "            <th>1</th>\n",
              "        </tr>\n",
              "    </thead>\n",
              "    <tbody>\n",
              "    </tbody>\n",
              "</table>"
            ],
            "text/plain": [
              "[]"
            ]
          },
          "execution_count": 5,
          "metadata": {},
          "output_type": "execute_result"
        }
      ],
      "source": [
        "# Rename old column\n",
        "%%sql\n",
        "ALTER TABLE passengers\n",
        "RENAME COLUMN Age TO Age_text"
      ]
    },
    {
      "cell_type": "code",
      "execution_count": 6,
      "metadata": {},
      "outputs": [
        {
          "name": "stdout",
          "output_type": "stream",
          "text": [
            " * sqlite:///titanic.db\n",
            "Done.\n"
          ]
        },
        {
          "data": {
            "text/plain": [
              "[]"
            ]
          },
          "execution_count": 6,
          "metadata": {},
          "output_type": "execute_result"
        }
      ],
      "source": [
        "# Add new column\n",
        "%%sql\n",
        "ALTER TABLE passengers\n",
        "ADD Age INTEGER"
      ]
    },
    {
      "cell_type": "code",
      "execution_count": 7,
      "metadata": {},
      "outputs": [
        {
          "name": "stdout",
          "output_type": "stream",
          "text": [
            " * sqlite:///titanic.db\n",
            "891 rows affected.\n"
          ]
        },
        {
          "data": {
            "text/plain": [
              "[]"
            ]
          },
          "execution_count": 7,
          "metadata": {},
          "output_type": "execute_result"
        }
      ],
      "source": [
        "# Copy values from old to new column\n",
        "%%sql\n",
        "UPDATE passengers\n",
        "SET Age = Age_text"
      ]
    },
    {
      "cell_type": "code",
      "execution_count": 8,
      "metadata": {},
      "outputs": [
        {
          "name": "stdout",
          "output_type": "stream",
          "text": [
            " * sqlite:///titanic.db\n",
            "(sqlite3.OperationalError) near \"DROP\": syntax error\n",
            "[SQL: ALTER TABLE passengers\n",
            "DROP COLUMN Age_text]\n",
            "(Background on this error at: https://sqlalche.me/e/20/e3q8)\n"
          ]
        }
      ],
      "source": [
        "# Remove old column\n",
        "%%sql\n",
        "ALTER TABLE passengers\n",
        "DROP COLUMN Age_text"
      ]
    },
    {
      "cell_type": "code",
      "execution_count": 9,
      "metadata": {},
      "outputs": [
        {
          "name": "stdout",
          "output_type": "stream",
          "text": [
            " * sqlite:///titanic.db\n",
            "Done.\n"
          ]
        },
        {
          "data": {
            "text/html": [
              "<table>\n",
              "    <thead>\n",
              "        <tr>\n",
              "            <th>typeof(Age)</th>\n",
              "        </tr>\n",
              "    </thead>\n",
              "    <tbody>\n",
              "        <tr>\n",
              "            <td>integer</td>\n",
              "        </tr>\n",
              "        <tr>\n",
              "            <td>integer</td>\n",
              "        </tr>\n",
              "        <tr>\n",
              "            <td>integer</td>\n",
              "        </tr>\n",
              "        <tr>\n",
              "            <td>integer</td>\n",
              "        </tr>\n",
              "        <tr>\n",
              "            <td>integer</td>\n",
              "        </tr>\n",
              "    </tbody>\n",
              "</table>"
            ],
            "text/plain": [
              "[('integer',), ('integer',), ('integer',), ('integer',), ('integer',)]"
            ]
          },
          "execution_count": 9,
          "metadata": {},
          "output_type": "execute_result"
        }
      ],
      "source": [
        "# Verify data type of new column\n",
        "%sql SELECT typeof(Age) FROM passengers LIMIT 5"
      ]
    },
    {
      "cell_type": "code",
      "execution_count": 10,
      "metadata": {
        "colab": {
          "base_uri": "https://localhost:8080/",
          "height": 96
        },
        "id": "f6Z17rH-gyFL",
        "outputId": "72a79ce5-a8e2-4af9-efe3-decf34933335"
      },
      "outputs": [
        {
          "name": "stdout",
          "output_type": "stream",
          "text": [
            " * sqlite:///titanic.db\n",
            "15 rows affected.\n"
          ]
        },
        {
          "data": {
            "text/plain": [
              "[]"
            ]
          },
          "execution_count": 10,
          "metadata": {},
          "output_type": "execute_result"
        }
      ],
      "source": [
        "# Update 0 to NULL\n",
        "%%sql\n",
        "UPDATE passengers\n",
        "SET Fare = NULL\n",
        "WHERE Fare = 0"
      ]
    },
    {
      "cell_type": "code",
      "execution_count": 11,
      "metadata": {
        "colab": {
          "base_uri": "https://localhost:8080/",
          "height": 96
        },
        "id": "R9lF6cwAgx9j",
        "outputId": "e6bc4876-d1fd-495b-c0c6-2ce80134d453"
      },
      "outputs": [
        {
          "name": "stdout",
          "output_type": "stream",
          "text": [
            " * sqlite:///titanic.db\n",
            "Done.\n"
          ]
        },
        {
          "data": {
            "text/plain": [
              "[]"
            ]
          },
          "execution_count": 11,
          "metadata": {},
          "output_type": "execute_result"
        }
      ],
      "source": [
        "# Add new column with data type TEXT\n",
        "%%sql\n",
        "ALTER TABLE passengers\n",
        "ADD Age_Group TEXT"
      ]
    },
    {
      "cell_type": "code",
      "execution_count": 12,
      "metadata": {},
      "outputs": [
        {
          "name": "stdout",
          "output_type": "stream",
          "text": [
            " * sqlite:///titanic.db\n",
            "891 rows affected.\n"
          ]
        },
        {
          "data": {
            "text/plain": [
              "[]"
            ]
          },
          "execution_count": 12,
          "metadata": {},
          "output_type": "execute_result"
        }
      ],
      "source": [
        "# Categorize into age group\n",
        "%%sql\n",
        "UPDATE passengers\n",
        "SET Age_Group = (\n",
        "    CASE\n",
        "        WHEN (Age < 13) THEN 'children'\n",
        "        WHEN (Age >= 13) AND (Age < 19) THEN 'adolescents'\n",
        "        WHEN (Age >= 19) AND (Age < 60) THEN 'adults'\n",
        "        WHEN (Age >= 60) THEN 'seniors'\n",
        "        ELSE NULL\n",
        "    END)"
      ]
    },
    {
      "cell_type": "code",
      "execution_count": 13,
      "metadata": {
        "colab": {
          "base_uri": "https://localhost:8080/",
          "height": 118
        },
        "id": "8WurUjWTgqpb",
        "outputId": "f8b58973-85e7-4212-f70f-7d4f30fef2a0"
      },
      "outputs": [
        {
          "name": "stdout",
          "output_type": "stream",
          "text": [
            " * sqlite:///titanic.db\n",
            "Done.\n"
          ]
        },
        {
          "data": {
            "text/html": [
              "<table>\n",
              "    <thead>\n",
              "        <tr>\n",
              "            <th>Survived</th>\n",
              "            <th>Headcount</th>\n",
              "            <th>Percentage</th>\n",
              "        </tr>\n",
              "    </thead>\n",
              "    <tbody>\n",
              "        <tr>\n",
              "            <td>0</td>\n",
              "            <td>549</td>\n",
              "            <td>61.62</td>\n",
              "        </tr>\n",
              "        <tr>\n",
              "            <td>1</td>\n",
              "            <td>342</td>\n",
              "            <td>38.38</td>\n",
              "        </tr>\n",
              "    </tbody>\n",
              "</table>"
            ],
            "text/plain": [
              "[(0, 549, 61.62), (1, 342, 38.38)]"
            ]
          },
          "execution_count": 13,
          "metadata": {},
          "output_type": "execute_result"
        }
      ],
      "source": [
        "# Survival rate and distribution\n",
        "%%sql\n",
        "SELECT Survived, \n",
        "    COUNT(Survived) AS Headcount,\n",
        "    round(COUNT(*) * 100.0 /(SELECT COUNT(*) FROM passengers),2) AS Percentage\n",
        "FROM passengers\n",
        "GROUP BY Survived"
      ]
    },
    {
      "cell_type": "code",
      "execution_count": 14,
      "metadata": {
        "colab": {
          "base_uri": "https://localhost:8080/",
          "height": 160
        },
        "id": "3ZG9atTXhT76",
        "outputId": "bf0e9fe5-ad04-4c20-80b6-cc7b40d124d0"
      },
      "outputs": [
        {
          "name": "stdout",
          "output_type": "stream",
          "text": [
            " * sqlite:///titanic.db\n",
            "Done.\n"
          ]
        },
        {
          "data": {
            "text/html": [
              "<table>\n",
              "    <thead>\n",
              "        <tr>\n",
              "            <th>first_class</th>\n",
              "            <th>second_class</th>\n",
              "            <th>third_class</th>\n",
              "        </tr>\n",
              "    </thead>\n",
              "    <tbody>\n",
              "        <tr>\n",
              "            <td>216</td>\n",
              "            <td>184</td>\n",
              "            <td>491</td>\n",
              "        </tr>\n",
              "    </tbody>\n",
              "</table>"
            ],
            "text/plain": [
              "[(216, 184, 491)]"
            ]
          },
          "execution_count": 14,
          "metadata": {},
          "output_type": "execute_result"
        }
      ],
      "source": [
        "# Socioeconomic status\n",
        "%%sql\n",
        "SELECT\n",
        "(SELECT COUNT(Pclass) FROM passengers WHERE Pclass = 1) AS first_class,\n",
        "(SELECT COUNT(Pclass) FROM passengers WHERE Pclass = 2) AS second_class,\n",
        "(SELECT COUNT(Pclass) FROM passengers WHERE Pclass = 3) AS third_class"
      ]
    },
    {
      "cell_type": "code",
      "execution_count": 15,
      "metadata": {
        "colab": {
          "base_uri": "https://localhost:8080/",
          "height": 118
        },
        "id": "GRa5vdVChtOh",
        "outputId": "59bcd5bd-0ebb-402b-9366-d77b45306f8b"
      },
      "outputs": [
        {
          "name": "stdout",
          "output_type": "stream",
          "text": [
            " * sqlite:///titanic.db\n",
            "Done.\n"
          ]
        },
        {
          "data": {
            "text/html": [
              "<table>\n",
              "    <thead>\n",
              "        <tr>\n",
              "            <th>male</th>\n",
              "            <th>female</th>\n",
              "        </tr>\n",
              "    </thead>\n",
              "    <tbody>\n",
              "        <tr>\n",
              "            <td>577</td>\n",
              "            <td>314</td>\n",
              "        </tr>\n",
              "    </tbody>\n",
              "</table>"
            ],
            "text/plain": [
              "[(577, 314)]"
            ]
          },
          "execution_count": 15,
          "metadata": {},
          "output_type": "execute_result"
        }
      ],
      "source": [
        "# Gender\n",
        "%%sql\n",
        "SELECT\n",
        "(SELECT COUNT(Sex) FROM passengers WHERE Sex = 'male') AS male,\n",
        "(SELECT COUNT(Sex) FROM passengers WHERE Sex = 'female') AS female"
      ]
    },
    {
      "cell_type": "code",
      "execution_count": 16,
      "metadata": {
        "colab": {
          "base_uri": "https://localhost:8080/",
          "height": 118
        },
        "id": "mAA7XErLjPgl",
        "outputId": "1c0496f3-4eb9-4e86-dd10-4d0cfcc63f65"
      },
      "outputs": [
        {
          "name": "stdout",
          "output_type": "stream",
          "text": [
            " * sqlite:///titanic.db\n",
            "Done.\n"
          ]
        },
        {
          "data": {
            "text/html": [
              "<table>\n",
              "    <thead>\n",
              "        <tr>\n",
              "            <th>children</th>\n",
              "            <th>adolescents</th>\n",
              "            <th>adults</th>\n",
              "            <th>seniors</th>\n",
              "        </tr>\n",
              "    </thead>\n",
              "    <tbody>\n",
              "        <tr>\n",
              "            <td>69</td>\n",
              "            <td>70</td>\n",
              "            <td>549</td>\n",
              "            <td>26</td>\n",
              "        </tr>\n",
              "    </tbody>\n",
              "</table>"
            ],
            "text/plain": [
              "[(69, 70, 549, 26)]"
            ]
          },
          "execution_count": 16,
          "metadata": {},
          "output_type": "execute_result"
        }
      ],
      "source": [
        "# Age categorisation\n",
        "%%sql\n",
        "SELECT\n",
        "(SELECT COUNT(Age_Group) FROM passengers WHERE Age_Group = 'children') AS 'children',\n",
        "(SELECT COUNT(Age_Group) FROM passengers WHERE Age_Group = 'adolescents') AS 'adolescents',\n",
        "(SELECT COUNT(Age_Group) FROM passengers WHERE Age_Group = 'adults') AS 'adults',\n",
        "(SELECT COUNT(Age_Group) FROM passengers WHERE Age_Group = 'seniors') AS 'seniors'"
      ]
    },
    {
      "cell_type": "code",
      "execution_count": 17,
      "metadata": {
        "colab": {
          "base_uri": "https://localhost:8080/",
          "height": 118
        },
        "id": "9xYvdzxJjabT",
        "outputId": "597c8c02-3920-4601-b97f-26360ed386c1"
      },
      "outputs": [
        {
          "name": "stdout",
          "output_type": "stream",
          "text": [
            " * sqlite:///titanic.db\n",
            "Done.\n"
          ]
        },
        {
          "data": {
            "text/html": [
              "<table>\n",
              "    <thead>\n",
              "        <tr>\n",
              "            <th>Pclass</th>\n",
              "            <th>survive</th>\n",
              "            <th>didnotsurvive</th>\n",
              "        </tr>\n",
              "    </thead>\n",
              "    <tbody>\n",
              "        <tr>\n",
              "            <td>1</td>\n",
              "            <td>136</td>\n",
              "            <td>80</td>\n",
              "        </tr>\n",
              "        <tr>\n",
              "            <td>2</td>\n",
              "            <td>87</td>\n",
              "            <td>97</td>\n",
              "        </tr>\n",
              "        <tr>\n",
              "            <td>3</td>\n",
              "            <td>119</td>\n",
              "            <td>372</td>\n",
              "        </tr>\n",
              "    </tbody>\n",
              "</table>"
            ],
            "text/plain": [
              "[(1, 136, 80), (2, 87, 97), (3, 119, 372)]"
            ]
          },
          "execution_count": 17,
          "metadata": {},
          "output_type": "execute_result"
        }
      ],
      "source": [
        "# Survival status based on Socioeconomic status\n",
        "%%sql\n",
        "WITH table1 AS (\n",
        "    SELECT Pclass, COUNT(Survived) AS survive\n",
        "    FROM passengers\n",
        "    WHERE Survived = 1\n",
        "    GROUP BY Pclass),\n",
        "table2 AS (\n",
        "    SELECT Pclass, COUNT(Survived) AS didnotsurvive\n",
        "    FROM passengers\n",
        "    WHERE Survived = 0\n",
        "    GROUP BY Pclass)\n",
        "SELECT table1.Pclass, survive, didnotsurvive\n",
        "FROM table1 JOIN table2\n",
        "    ON table1.Pclass = table2.Pclass"
      ]
    },
    {
      "cell_type": "code",
      "execution_count": 18,
      "metadata": {
        "colab": {
          "base_uri": "https://localhost:8080/",
          "height": 118
        },
        "id": "gqAZw8v6jgGk",
        "outputId": "b433845f-448d-4593-fc00-6a6fcf1da907"
      },
      "outputs": [
        {
          "name": "stdout",
          "output_type": "stream",
          "text": [
            " * sqlite:///titanic.db\n",
            "Done.\n"
          ]
        },
        {
          "data": {
            "text/html": [
              "<table>\n",
              "    <thead>\n",
              "        <tr>\n",
              "            <th>Sex</th>\n",
              "            <th>survive</th>\n",
              "            <th>didnotsurvive</th>\n",
              "        </tr>\n",
              "    </thead>\n",
              "    <tbody>\n",
              "        <tr>\n",
              "            <td>female</td>\n",
              "            <td>233</td>\n",
              "            <td>81</td>\n",
              "        </tr>\n",
              "        <tr>\n",
              "            <td>male</td>\n",
              "            <td>109</td>\n",
              "            <td>468</td>\n",
              "        </tr>\n",
              "    </tbody>\n",
              "</table>"
            ],
            "text/plain": [
              "[('female', 233, 81), ('male', 109, 468)]"
            ]
          },
          "execution_count": 18,
          "metadata": {},
          "output_type": "execute_result"
        }
      ],
      "source": [
        "# Survival status based on Gender\n",
        "%%sql\n",
        "WITH table1 AS (\n",
        "    SELECT Sex, COUNT(Survived) AS survive\n",
        "    FROM passengers\n",
        "    WHERE Survived = 1\n",
        "    GROUP BY Sex),\n",
        "table2 AS (\n",
        "    SELECT Sex, COUNT(Survived) AS didnotsurvive\n",
        "    FROM passengers\n",
        "    WHERE Survived = 0\n",
        "    GROUP BY Sex)\n",
        "SELECT table1.Sex, survive, didnotsurvive\n",
        "FROM table1 JOIN table2\n",
        "    ON table1.Sex = table2.Sex"
      ]
    },
    {
      "cell_type": "code",
      "execution_count": 19,
      "metadata": {
        "colab": {
          "base_uri": "https://localhost:8080/",
          "height": 118
        },
        "id": "n1ZIL0mJjs6a",
        "outputId": "1d47ba91-362b-407c-e5e0-c08dd6810883"
      },
      "outputs": [
        {
          "name": "stdout",
          "output_type": "stream",
          "text": [
            " * sqlite:///titanic.db\n",
            "Done.\n"
          ]
        },
        {
          "data": {
            "text/html": [
              "<table>\n",
              "    <thead>\n",
              "        <tr>\n",
              "            <th>Age_Group</th>\n",
              "            <th>survive</th>\n",
              "            <th>didnotsurvive</th>\n",
              "        </tr>\n",
              "    </thead>\n",
              "    <tbody>\n",
              "        <tr>\n",
              "            <td>adolescents</td>\n",
              "            <td>30</td>\n",
              "            <td>40</td>\n",
              "        </tr>\n",
              "        <tr>\n",
              "            <td>adults</td>\n",
              "            <td>213</td>\n",
              "            <td>336</td>\n",
              "        </tr>\n",
              "        <tr>\n",
              "            <td>children</td>\n",
              "            <td>40</td>\n",
              "            <td>29</td>\n",
              "        </tr>\n",
              "        <tr>\n",
              "            <td>seniors</td>\n",
              "            <td>7</td>\n",
              "            <td>19</td>\n",
              "        </tr>\n",
              "    </tbody>\n",
              "</table>"
            ],
            "text/plain": [
              "[('adolescents', 30, 40),\n",
              " ('adults', 213, 336),\n",
              " ('children', 40, 29),\n",
              " ('seniors', 7, 19)]"
            ]
          },
          "execution_count": 19,
          "metadata": {},
          "output_type": "execute_result"
        }
      ],
      "source": [
        "# Survival status based on Age Group\n",
        "%%sql\n",
        "WITH table1 AS (\n",
        "    SELECT Age_Group, COUNT(Survived) AS survive\n",
        "    FROM passengers\n",
        "    WHERE Survived = 1 AND Age_Group IS NOT NULL\n",
        "    GROUP BY Age_Group),\n",
        "table2 AS (\n",
        "    SELECT Age_Group, COUNT(Survived) AS didnotsurvive\n",
        "    FROM passengers\n",
        "    WHERE Survived = 0 AND Age_Group IS NOT NULL\n",
        "    GROUP BY Age_Group)\n",
        "SELECT table1.Age_Group, survive, didnotsurvive\n",
        "FROM table1 JOIN table2\n",
        "    ON table1.Age_Group = table2.Age_Group"
      ]
    },
    {
      "cell_type": "code",
      "execution_count": 21,
      "metadata": {
        "colab": {
          "base_uri": "https://localhost:8080/",
          "height": 118
        },
        "id": "BKpoqAZ0lJ-o",
        "outputId": "932e3d1f-d334-430f-ff7e-abc73412b200"
      },
      "outputs": [
        {
          "name": "stdout",
          "output_type": "stream",
          "text": [
            " * sqlite:///titanic.db\n",
            "Done.\n"
          ]
        },
        {
          "data": {
            "text/html": [
              "<table>\n",
              "    <thead>\n",
              "        <tr>\n",
              "            <th>Survived</th>\n",
              "            <th>Headcount</th>\n",
              "            <th>Percentage</th>\n",
              "        </tr>\n",
              "    </thead>\n",
              "    <tbody>\n",
              "        <tr>\n",
              "            <td>0</td>\n",
              "            <td>374</td>\n",
              "            <td>69.65</td>\n",
              "        </tr>\n",
              "        <tr>\n",
              "            <td>1</td>\n",
              "            <td>163</td>\n",
              "            <td>30.35</td>\n",
              "        </tr>\n",
              "    </tbody>\n",
              "</table>"
            ],
            "text/plain": [
              "[(0, 374, 69.65), (1, 163, 30.35)]"
            ]
          },
          "execution_count": 21,
          "metadata": {},
          "output_type": "execute_result"
        }
      ],
      "source": [
        "# Survival rate and distribution for passengers without family onboard\n",
        "%%sql\n",
        "SELECT Survived,\n",
        "    COUNT(*) AS Headcount,\n",
        "    round(COUNT(*) * 100.0 / (SELECT COUNT(*) FROM passengers WHERE Parch = 0 AND SibSp = 0),2) AS Percentage\n",
        "FROM passengers\n",
        "WHERE Parch = 0 AND SibSp = 0\n",
        "GROUP BY Survived"
      ]
    },
    {
      "cell_type": "code",
      "execution_count": 22,
      "metadata": {},
      "outputs": [
        {
          "name": "stdout",
          "output_type": "stream",
          "text": [
            " * sqlite:///titanic.db\n",
            "Done.\n"
          ]
        },
        {
          "data": {
            "text/html": [
              "<table>\n",
              "    <thead>\n",
              "        <tr>\n",
              "            <th>Parch</th>\n",
              "            <th>SibSp</th>\n",
              "            <th>survive</th>\n",
              "            <th>didnotsurvive</th>\n",
              "        </tr>\n",
              "    </thead>\n",
              "    <tbody>\n",
              "        <tr>\n",
              "            <td>0</td>\n",
              "            <td>0</td>\n",
              "            <td>163</td>\n",
              "            <td>374</td>\n",
              "        </tr>\n",
              "        <tr>\n",
              "            <td>0</td>\n",
              "            <td>1</td>\n",
              "            <td>64</td>\n",
              "            <td>59</td>\n",
              "        </tr>\n",
              "        <tr>\n",
              "            <td>0</td>\n",
              "            <td>2</td>\n",
              "            <td>4</td>\n",
              "            <td>12</td>\n",
              "        </tr>\n",
              "        <tr>\n",
              "            <td>1</td>\n",
              "            <td>0</td>\n",
              "            <td>25</td>\n",
              "            <td>13</td>\n",
              "        </tr>\n",
              "        <tr>\n",
              "            <td>1</td>\n",
              "            <td>1</td>\n",
              "            <td>34</td>\n",
              "            <td>23</td>\n",
              "        </tr>\n",
              "        <tr>\n",
              "            <td>1</td>\n",
              "            <td>2</td>\n",
              "            <td>6</td>\n",
              "            <td>1</td>\n",
              "        </tr>\n",
              "        <tr>\n",
              "            <td>2</td>\n",
              "            <td>0</td>\n",
              "            <td>21</td>\n",
              "            <td>8</td>\n",
              "        </tr>\n",
              "        <tr>\n",
              "            <td>2</td>\n",
              "            <td>1</td>\n",
              "            <td>12</td>\n",
              "            <td>7</td>\n",
              "        </tr>\n",
              "        <tr>\n",
              "            <td>2</td>\n",
              "            <td>2</td>\n",
              "            <td>2</td>\n",
              "            <td>2</td>\n",
              "        </tr>\n",
              "        <tr>\n",
              "            <td>2</td>\n",
              "            <td>3</td>\n",
              "            <td>2</td>\n",
              "            <td>5</td>\n",
              "        </tr>\n",
              "        <tr>\n",
              "            <td>2</td>\n",
              "            <td>4</td>\n",
              "            <td>3</td>\n",
              "            <td>6</td>\n",
              "        </tr>\n",
              "        <tr>\n",
              "            <td>3</td>\n",
              "            <td>1</td>\n",
              "            <td>1</td>\n",
              "            <td>2</td>\n",
              "        </tr>\n",
              "        <tr>\n",
              "            <td>5</td>\n",
              "            <td>1</td>\n",
              "            <td>1</td>\n",
              "            <td>2</td>\n",
              "        </tr>\n",
              "    </tbody>\n",
              "</table>"
            ],
            "text/plain": [
              "[(0, 0, 163, 374),\n",
              " (0, 1, 64, 59),\n",
              " (0, 2, 4, 12),\n",
              " (1, 0, 25, 13),\n",
              " (1, 1, 34, 23),\n",
              " (1, 2, 6, 1),\n",
              " (2, 0, 21, 8),\n",
              " (2, 1, 12, 7),\n",
              " (2, 2, 2, 2),\n",
              " (2, 3, 2, 5),\n",
              " (2, 4, 3, 6),\n",
              " (3, 1, 1, 2),\n",
              " (5, 1, 1, 2)]"
            ]
          },
          "execution_count": 22,
          "metadata": {},
          "output_type": "execute_result"
        }
      ],
      "source": [
        "# Survival status based on Number of family relations onboard\n",
        "%%sql\n",
        "WITH table1 AS (\n",
        "    SELECT Parch, SibSp, COUNT(Survived) AS survive\n",
        "    FROM passengers\n",
        "    WHERE Survived = 1\n",
        "    GROUP BY Parch, SibSp),\n",
        "table2 AS (\n",
        "    SELECT Parch, SibSp, COUNT(Survived) AS didnotsurvive\n",
        "    FROM passengers\n",
        "    WHERE Survived = 0\n",
        "    GROUP BY Parch, SibSp)\n",
        "SELECT table1.Parch, table1.SibSp, survive, didnotsurvive\n",
        "FROM table1 JOIN table2\n",
        "    ON table1.Parch = table2.Parch AND table1.SibSp = table2.SibSp"
      ]
    }
  ],
  "metadata": {
    "colab": {
      "authorship_tag": "ABX9TyOvBZU3mUI043ekL3wHOJ8N",
      "include_colab_link": true,
      "mount_file_id": "1Xzw9iJf0SyLYH_b0COvWR_CsO0vyCKHO",
      "name": "sql_titanic_in_py",
      "provenance": []
    },
    "kernelspec": {
      "display_name": "Python 3",
      "name": "python3"
    },
    "language_info": {
      "codemirror_mode": {
        "name": "ipython",
        "version": 3
      },
      "file_extension": ".py",
      "mimetype": "text/x-python",
      "name": "python",
      "nbconvert_exporter": "python",
      "pygments_lexer": "ipython3",
      "version": "3.9.4"
    }
  },
  "nbformat": 4,
  "nbformat_minor": 0
}
